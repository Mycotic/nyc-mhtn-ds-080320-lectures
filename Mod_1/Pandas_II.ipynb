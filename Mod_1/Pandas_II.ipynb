{
 "cells": [
  {
   "cell_type": "markdown",
   "metadata": {},
   "source": [
    "# Pandas II - Data Cleaning\n",
    "\n",
    "_Aug 5, 2020_\n",
    "\n",
    "Agenda today:\n",
    "- Introduction to lambda function\n",
    "- Introduction to data cleaning in pandas"
   ]
  },
  {
   "cell_type": "code",
   "execution_count": 20,
   "metadata": {},
   "outputs": [],
   "source": [
    "import pandas as pd\n",
    "import matplotlib.pyplot as plt\n",
    "import numpy as np"
   ]
  },
  {
   "cell_type": "markdown",
   "metadata": {},
   "source": [
    "## Part I. Lambda function\n",
    "lambda functions are known as anonymous functions in Python. It allows you to write one-line functions that are used together with `map()`, `filter()`.\n",
    "\n",
    "Syntax of lambda function: `lambda arguments:expressions`. "
   ]
  },
  {
   "cell_type": "code",
   "execution_count": null,
   "metadata": {},
   "outputs": [],
   "source": [
    "# lambda function with one argument\n",
    "func_1 = lambda x:x+10\n",
    "func_1(10)"
   ]
  },
  {
   "cell_type": "code",
   "execution_count": 1,
   "metadata": {},
   "outputs": [
    {
     "data": {
      "text/plain": [
       "10"
      ]
     },
     "execution_count": 1,
     "metadata": {},
     "output_type": "execute_result"
    }
   ],
   "source": [
    "# lambda function with multiple arguments\n",
    "func_2 = lambda x, y, z: x+y+z if z + y > x else x-y+z\n",
    "func_2(10,3,3)"
   ]
  },
  {
   "cell_type": "code",
   "execution_count": 8,
   "metadata": {},
   "outputs": [],
   "source": [
    "# exercise: turn the below function into a lambda function\n",
    "def count_zeros(li):\n",
    "    \"\"\"\n",
    "    return a count of how many zeros are in a list\n",
    "    \"\"\"\n",
    "    count = sum(x == 0 for x in li)\n",
    "    \n",
    "    a=list(filter(lambda x: x==0,li))\n",
    "    print(a)\n",
    "    return len(a)"
   ]
  },
  {
   "cell_type": "code",
   "execution_count": 9,
   "metadata": {},
   "outputs": [
    {
     "name": "stdout",
     "output_type": "stream",
     "text": [
      "[0]\n"
     ]
    },
    {
     "data": {
      "text/plain": [
       "1"
      ]
     },
     "execution_count": 9,
     "metadata": {},
     "output_type": "execute_result"
    }
   ],
   "source": [
    "count_zeros([1,2,4,0])"
   ]
  },
  {
   "cell_type": "code",
   "execution_count": 10,
   "metadata": {},
   "outputs": [],
   "source": [
    "# your answer here"
   ]
  },
  {
   "cell_type": "markdown",
   "metadata": {},
   "source": [
    "## Part II. Data Cleaning in Pandas\n",
    "You might wonder what the usage of lambda functions are - they are incredibly useful when applied to data cleaning in Pandas. You can apply it to columns or the entire dataframe to get results you need. For example, you might want to convert a column with $USD to Euros, or temperature expressed in Celsius to Fehrenheit. You will learn three new functions:\n",
    "\n",
    "- `Apply()` - on both series and dataframe\n",
    "\n",
    "- `Applymap()` - only on dataframes\n",
    "\n",
    "- `Map()` - only on series"
   ]
  },
  {
   "cell_type": "code",
   "execution_count": 21,
   "metadata": {},
   "outputs": [],
   "source": [
    "# import the dataframe \n",
    "df = pd.read_csv(\"auto-mpg.csv\")"
   ]
  },
  {
   "cell_type": "code",
   "execution_count": 12,
   "metadata": {
    "scrolled": true
   },
   "outputs": [],
   "source": [
    "# examine the first few rows of it \n"
   ]
  },
  {
   "cell_type": "code",
   "execution_count": 13,
   "metadata": {
    "scrolled": true
   },
   "outputs": [],
   "source": [
    "# check the datatypes of the df\n"
   ]
  },
  {
   "cell_type": "code",
   "execution_count": 14,
   "metadata": {},
   "outputs": [],
   "source": [
    "# check whether you have missing values\n"
   ]
  },
  {
   "cell_type": "code",
   "execution_count": 15,
   "metadata": {},
   "outputs": [],
   "source": [
    "# creating new columns - broadcasting \n"
   ]
  },
  {
   "cell_type": "code",
   "execution_count": null,
   "metadata": {},
   "outputs": [],
   "source": [
    "# check the dataframe\n"
   ]
  },
  {
   "cell_type": "code",
   "execution_count": null,
   "metadata": {
    "scrolled": true
   },
   "outputs": [],
   "source": [
    "# time to use lambda and apply! with apply, applymap, and map, you never need to \"iterate through the rows\"\n",
    "\n",
    "# create a function that takes in the weight as lbs, and return weight in tons \n",
    "\n",
    "# 1 lb = 0.0005\n",
    "\n"
   ]
  },
  {
   "cell_type": "code",
   "execution_count": null,
   "metadata": {},
   "outputs": [],
   "source": [
    "# exercise - create a new column called \"years old\", which determines how old a car is \n",
    "\n"
   ]
  },
  {
   "cell_type": "markdown",
   "metadata": {},
   "source": [
    "### Data Cleaning - level up with the adult dataset"
   ]
  },
  {
   "cell_type": "markdown",
   "metadata": {},
   "source": [
    "Dataset documentation:\n",
    "- age: continuous.\n",
    "- workclass: Private, Self-emp-not-inc, Self-emp-inc, Federal-gov, Local-gov, State-gov, Without-pay, Never-worked.\n",
    "- fnlwgt: continuous.\n",
    "- education: Bachelors, Some-college, 11th, HS-grad, Prof-school, Assoc-acdm, Assoc-voc, 9th, 7th-8th, 12th, Masters, 1st-4th, 10th, Doctorate, 5th-6th, Preschool.\n",
    "- education-num: continuous.\n",
    "- marital-status: Married-civ-spouse, Divorced, Never-married, Separated, Widowed, Married-spouse-absent, Married-AF-spouse.\n",
    "- occupation: Tech-support, Craft-repair, Other-service, Sales, Exec-managerial, Prof-specialty, Handlers-cleaners, Machine-op-inspct, Adm-clerical, Farming-fishing, Transport-moving, Priv-house-serv, Protective-serv, Armed-Forces.\n",
    "- relationship: Wife, Own-child, Husband, Not-in-family, Other-relative, Unmarried.\n",
    "- race: White, Asian-Pac-Islander, Amer-Indian-Eskimo, Other, Black.\n",
    "- sex: Female, Male.\n",
    "- capital-gain: continuous.\n",
    "- capital-loss: continuous.\n",
    "- hours-per-week: continuous.\n",
    "- native-country: United-States, Cambodia, England, Puerto-Rico, Canada, Germany, Outlying-US(Guam-USVI-etc), India, Japan, Greece, South, China, Cuba, Iran, Honduras, Philippines, Italy, Poland, Jamaica, Vietnam, Mexico, Portugal, Ireland, France, Dominican-Republic, Laos, Ecuador, Taiwan, Haiti, Columbia, Hungary, Guatemala, Nicaragua, Scotland, Thailand, Yugoslavia, El-Salvador, Trinadad&Tobago, Peru, Hong, Holand-Netherlands.\n",
    "\n"
   ]
  },
  {
   "cell_type": "code",
   "execution_count": 45,
   "metadata": {},
   "outputs": [],
   "source": [
    "url = 'https://archive.ics.uci.edu/ml/machine-learning-databases/adult/adult.data'\n",
    "adults = pd.read_csv(url, header = None)"
   ]
  },
  {
   "cell_type": "code",
   "execution_count": 46,
   "metadata": {
    "scrolled": false
   },
   "outputs": [],
   "source": [
    "# Check the first few rows \n",
    "adults.head()\n",
    "columns = ['age', 'workclass', 'fnlwgt', 'education', 'education-num', 'marital_status', 'occupation', 'relationship', 'race', 'sex', 'capital_gain', 'capital_loss', 'hours_per_week', 'native_country', \"income\"]\n",
    "adults.columns=columns"
   ]
  },
  {
   "cell_type": "code",
   "execution_count": 47,
   "metadata": {},
   "outputs": [],
   "source": [
    "def stripstr(cellval):\n",
    "    if type(cellval) == str:\n",
    "        return cellval.strip()\n"
   ]
  },
  {
   "cell_type": "code",
   "execution_count": 52,
   "metadata": {},
   "outputs": [
    {
     "name": "stdout",
     "output_type": "stream",
     "text": [
      "0        39\n",
      "1        50\n",
      "2        38\n",
      "3        53\n",
      "4        28\n",
      "         ..\n",
      "32556    27\n",
      "32557    40\n",
      "32558    58\n",
      "32559    22\n",
      "32560    52\n",
      "Name: age, Length: 32561, dtype: object\n",
      "0                State-gov\n",
      "1         Self-emp-not-inc\n",
      "2                  Private\n",
      "3                  Private\n",
      "4                  Private\n",
      "               ...        \n",
      "32556              Private\n",
      "32557              Private\n",
      "32558              Private\n",
      "32559              Private\n",
      "32560         Self-emp-inc\n",
      "Name: workclass, Length: 32561, dtype: object\n",
      "0         77516\n",
      "1         83311\n",
      "2        215646\n",
      "3        234721\n",
      "4        338409\n",
      "          ...  \n",
      "32556    257302\n",
      "32557    154374\n",
      "32558    151910\n",
      "32559    201490\n",
      "32560    287927\n",
      "Name: fnlwgt, Length: 32561, dtype: object\n",
      "0          Bachelors\n",
      "1          Bachelors\n",
      "2            HS-grad\n",
      "3               11th\n",
      "4          Bachelors\n",
      "            ...     \n",
      "32556     Assoc-acdm\n",
      "32557        HS-grad\n",
      "32558        HS-grad\n",
      "32559        HS-grad\n",
      "32560        HS-grad\n",
      "Name: education, Length: 32561, dtype: object\n",
      "0        13\n",
      "1        13\n",
      "2         9\n",
      "3         7\n",
      "4        13\n",
      "         ..\n",
      "32556    12\n",
      "32557     9\n",
      "32558     9\n",
      "32559     9\n",
      "32560     9\n",
      "Name: education-num, Length: 32561, dtype: object\n",
      "0              Never-married\n",
      "1         Married-civ-spouse\n",
      "2                   Divorced\n",
      "3         Married-civ-spouse\n",
      "4         Married-civ-spouse\n",
      "                ...         \n",
      "32556     Married-civ-spouse\n",
      "32557     Married-civ-spouse\n",
      "32558                Widowed\n",
      "32559          Never-married\n",
      "32560     Married-civ-spouse\n",
      "Name: marital_status, Length: 32561, dtype: object\n",
      "0              Adm-clerical\n",
      "1           Exec-managerial\n",
      "2         Handlers-cleaners\n",
      "3         Handlers-cleaners\n",
      "4            Prof-specialty\n",
      "                ...        \n",
      "32556          Tech-support\n",
      "32557     Machine-op-inspct\n",
      "32558          Adm-clerical\n",
      "32559          Adm-clerical\n",
      "32560       Exec-managerial\n",
      "Name: occupation, Length: 32561, dtype: object\n",
      "0         Not-in-family\n",
      "1               Husband\n",
      "2         Not-in-family\n",
      "3               Husband\n",
      "4                  Wife\n",
      "              ...      \n",
      "32556              Wife\n",
      "32557           Husband\n",
      "32558         Unmarried\n",
      "32559         Own-child\n",
      "32560              Wife\n",
      "Name: relationship, Length: 32561, dtype: object\n",
      "0         White\n",
      "1         White\n",
      "2         White\n",
      "3         Black\n",
      "4         Black\n",
      "          ...  \n",
      "32556     White\n",
      "32557     White\n",
      "32558     White\n",
      "32559     White\n",
      "32560     White\n",
      "Name: race, Length: 32561, dtype: object\n",
      "0           Male\n",
      "1           Male\n",
      "2           Male\n",
      "3           Male\n",
      "4         Female\n",
      "          ...   \n",
      "32556     Female\n",
      "32557       Male\n",
      "32558     Female\n",
      "32559       Male\n",
      "32560     Female\n",
      "Name: sex, Length: 32561, dtype: object\n",
      "0         2174\n",
      "1            0\n",
      "2            0\n",
      "3            0\n",
      "4            0\n",
      "         ...  \n",
      "32556        0\n",
      "32557        0\n",
      "32558        0\n",
      "32559        0\n",
      "32560    15024\n",
      "Name: capital_gain, Length: 32561, dtype: object\n",
      "0        0\n",
      "1        0\n",
      "2        0\n",
      "3        0\n",
      "4        0\n",
      "        ..\n",
      "32556    0\n",
      "32557    0\n",
      "32558    0\n",
      "32559    0\n",
      "32560    0\n",
      "Name: capital_loss, Length: 32561, dtype: object\n",
      "0        40\n",
      "1        13\n",
      "2        40\n",
      "3        40\n",
      "4        40\n",
      "         ..\n",
      "32556    38\n",
      "32557    40\n",
      "32558    40\n",
      "32559    20\n",
      "32560    40\n",
      "Name: hours_per_week, Length: 32561, dtype: object\n",
      "0         United-States\n",
      "1         United-States\n",
      "2         United-States\n",
      "3         United-States\n",
      "4                  Cuba\n",
      "              ...      \n",
      "32556     United-States\n",
      "32557     United-States\n",
      "32558     United-States\n",
      "32559     United-States\n",
      "32560     United-States\n",
      "Name: native_country, Length: 32561, dtype: object\n",
      "0         <=50K\n",
      "1         <=50K\n",
      "2         <=50K\n",
      "3         <=50K\n",
      "4         <=50K\n",
      "          ...  \n",
      "32556     <=50K\n",
      "32557      >50K\n",
      "32558     <=50K\n",
      "32559     <=50K\n",
      "32560      >50K\n",
      "Name: income, Length: 32561, dtype: object\n"
     ]
    }
   ],
   "source": [
    "# add the columns to dataset\n",
    "#adults.applymap(lambda x: x.strip() if type(x) == str else x) \n",
    "#adults=adults.applymap(stripstr) \n",
    "adults = adults.apply(print) \n"
   ]
  },
  {
   "cell_type": "code",
   "execution_count": 51,
   "metadata": {},
   "outputs": [
    {
     "data": {
      "text/html": [
       "<div>\n",
       "<style scoped>\n",
       "    .dataframe tbody tr th:only-of-type {\n",
       "        vertical-align: middle;\n",
       "    }\n",
       "\n",
       "    .dataframe tbody tr th {\n",
       "        vertical-align: top;\n",
       "    }\n",
       "\n",
       "    .dataframe thead th {\n",
       "        text-align: right;\n",
       "    }\n",
       "</style>\n",
       "<table border=\"1\" class=\"dataframe\">\n",
       "  <thead>\n",
       "    <tr style=\"text-align: right;\">\n",
       "      <th></th>\n",
       "      <th>age</th>\n",
       "      <th>workclass</th>\n",
       "      <th>fnlwgt</th>\n",
       "      <th>education</th>\n",
       "      <th>education-num</th>\n",
       "      <th>marital_status</th>\n",
       "      <th>occupation</th>\n",
       "      <th>relationship</th>\n",
       "      <th>race</th>\n",
       "      <th>sex</th>\n",
       "      <th>capital_gain</th>\n",
       "      <th>capital_loss</th>\n",
       "      <th>hours_per_week</th>\n",
       "      <th>native_country</th>\n",
       "      <th>income</th>\n",
       "    </tr>\n",
       "  </thead>\n",
       "  <tbody>\n",
       "  </tbody>\n",
       "</table>\n",
       "</div>"
      ],
      "text/plain": [
       "Empty DataFrame\n",
       "Columns: [age, workclass, fnlwgt, education, education-num, marital_status, occupation, relationship, race, sex, capital_gain, capital_loss, hours_per_week, native_country, income]\n",
       "Index: []"
      ]
     },
     "execution_count": 51,
     "metadata": {},
     "output_type": "execute_result"
    }
   ],
   "source": [
    "# check the info of dataset\n",
    "adults.loc[(adults[\"sex\"]==\"Female\") & (adults[\"education\"]==\"Bachelors\")]"
   ]
  },
  {
   "cell_type": "code",
   "execution_count": null,
   "metadata": {},
   "outputs": [],
   "source": [
    "# perform some queries - find the total number of females who has bachelors degree"
   ]
  },
  {
   "cell_type": "code",
   "execution_count": null,
   "metadata": {},
   "outputs": [],
   "source": [
    "# seems like we have data anolmaly, find out what that is and fix it \n",
    "\n",
    "# hint - tons of entries contain white space, remove it!"
   ]
  },
  {
   "cell_type": "code",
   "execution_count": null,
   "metadata": {},
   "outputs": [],
   "source": [
    "# create a column called income_binary, 1 if >50k and 0 otherwise"
   ]
  },
  {
   "cell_type": "code",
   "execution_count": null,
   "metadata": {},
   "outputs": [],
   "source": [
    "# get some descriptive statistics of the income distribution "
   ]
  }
 ],
 "metadata": {
  "kernelspec": {
   "display_name": "Python 3",
   "language": "python",
   "name": "python3"
  },
  "language_info": {
   "codemirror_mode": {
    "name": "ipython",
    "version": 3
   },
   "file_extension": ".py",
   "mimetype": "text/x-python",
   "name": "python",
   "nbconvert_exporter": "python",
   "pygments_lexer": "ipython3",
   "version": "3.7.6"
  }
 },
 "nbformat": 4,
 "nbformat_minor": 2
}
